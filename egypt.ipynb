{
 "cells": [
  {
   "cell_type": "code",
   "execution_count": null,
   "id": "b5b1ab3f",
   "metadata": {},
   "outputs": [],
   "source": [
    "import pandas as pd\n",
    "import datetime\n",
    "import requests\n",
    "from bs4 import BeautifulSoup as bs\n"
   ]
  },
  {
   "cell_type": "code",
   "execution_count": null,
   "id": "ca9c62ae",
   "metadata": {},
   "outputs": [],
   "source": [
    "file_name = 'egypt_politician_list_' + str(datetime.date.today()) + '.csv'\n",
    "check = True\n",
    "counter = 0\n",
    "\n",
    "while check:\n",
    "\n",
    "  try:\n",
    "    counter += 1\n",
    "    df = pd.DataFrame()\n",
    "    url = f'http://www.parliament.gov.eg/MembersDetails.aspx?id={counter}'\n",
    "    html = requests.get(url).text\n",
    "    soup = bs(html, 'html.parser')\n",
    "    check = soup.find('ul', class_='list').text.strip().split('\\r\\n')\n",
    "    df['name'] = [\n",
    "        soup.find('span', id='ContentPlaceHolder1_Label2').text.strip()\n",
    "    ]\n",
    "    df['party'] = soup.find('span', id='ContentPlaceHolder1_Label8').text\n",
    "    df['district'] = soup.find(\n",
    "        'span', id='ContentPlaceHolder1_Label7').text.strip()\n",
    "    df['url'] = url\n",
    "\n",
    "    if counter == 1:\n",
    "      df.to_csv(file_name, mode='w', index=False)\n",
    "\n",
    "    else:\n",
    "      df.to_csv(file_name, mode='a', index=False, header=False)\n",
    "\n",
    "  except:\n",
    "    check = False\n",
    "    start = counter+1\n",
    "    end = counter+100\n",
    "\n",
    "    while start < end:\n",
    "      url = f'http://www.parliament.gov.eg/MembersDetails.aspx?id={start}'\n",
    "      html = requests.get(url).text\n",
    "      soup = bs(html, 'html.parser')\n",
    "\n",
    "      if soup.find('span', id='ContentPlaceHolder1_Label2').text:\n",
    "        check = True\n",
    "        break\n",
    "\n",
    "      else:\n",
    "        counter += 1\n",
    "\n",
    "      start += 1"
   ]
  }
 ],
 "metadata": {
  "kernelspec": {
   "display_name": "Python 3",
   "language": "python",
   "name": "python3"
  },
  "language_info": {
   "codemirror_mode": {
    "name": "ipython",
    "version": 3
   },
   "file_extension": ".py",
   "mimetype": "text/x-python",
   "name": "python",
   "nbconvert_exporter": "python",
   "pygments_lexer": "ipython3",
   "version": "3.8.8"
  }
 },
 "nbformat": 4,
 "nbformat_minor": 5
}
